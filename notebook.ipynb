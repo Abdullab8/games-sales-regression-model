{
 "cells": [
  {
   "cell_type": "code",
   "execution_count": 107,
   "id": "9ae8d855",
   "metadata": {},
   "outputs": [],
   "source": [
    "#import \n",
    "import pandas as pd\n",
    "import numpy as np\n",
    "from sklearn.model_selection import train_test_split\n",
    "from sklearn.linear_model import LinearRegression\n",
    "from sklearn import metrics"
   ]
  },
  {
   "cell_type": "code",
   "execution_count": 108,
   "id": "509a3efb",
   "metadata": {},
   "outputs": [],
   "source": [
    "df = pd.read_csv(\"vgsales.csv\")"
   ]
  },
  {
   "cell_type": "code",
   "execution_count": 109,
   "id": "cf25173c",
   "metadata": {},
   "outputs": [],
   "source": [
    "#EDA"
   ]
  },
  {
   "cell_type": "code",
   "execution_count": 110,
   "id": "c56e683f",
   "metadata": {},
   "outputs": [
    {
     "data": {
      "text/html": [
       "<div>\n",
       "<style scoped>\n",
       "    .dataframe tbody tr th:only-of-type {\n",
       "        vertical-align: middle;\n",
       "    }\n",
       "\n",
       "    .dataframe tbody tr th {\n",
       "        vertical-align: top;\n",
       "    }\n",
       "\n",
       "    .dataframe thead th {\n",
       "        text-align: right;\n",
       "    }\n",
       "</style>\n",
       "<table border=\"1\" class=\"dataframe\">\n",
       "  <thead>\n",
       "    <tr style=\"text-align: right;\">\n",
       "      <th></th>\n",
       "      <th>Rank</th>\n",
       "      <th>Name</th>\n",
       "      <th>Platform</th>\n",
       "      <th>Year</th>\n",
       "      <th>Genre</th>\n",
       "      <th>Publisher</th>\n",
       "      <th>NA_Sales</th>\n",
       "      <th>EU_Sales</th>\n",
       "      <th>JP_Sales</th>\n",
       "      <th>Other_Sales</th>\n",
       "      <th>Global_Sales</th>\n",
       "    </tr>\n",
       "  </thead>\n",
       "  <tbody>\n",
       "    <tr>\n",
       "      <th>0</th>\n",
       "      <td>1</td>\n",
       "      <td>Wii Sports</td>\n",
       "      <td>Wii</td>\n",
       "      <td>2006.0</td>\n",
       "      <td>Sports</td>\n",
       "      <td>Nintendo</td>\n",
       "      <td>41.49</td>\n",
       "      <td>29.02</td>\n",
       "      <td>3.77</td>\n",
       "      <td>8.46</td>\n",
       "      <td>82.74</td>\n",
       "    </tr>\n",
       "    <tr>\n",
       "      <th>1</th>\n",
       "      <td>2</td>\n",
       "      <td>Super Mario Bros.</td>\n",
       "      <td>NES</td>\n",
       "      <td>1985.0</td>\n",
       "      <td>Platform</td>\n",
       "      <td>Nintendo</td>\n",
       "      <td>29.08</td>\n",
       "      <td>3.58</td>\n",
       "      <td>6.81</td>\n",
       "      <td>0.77</td>\n",
       "      <td>40.24</td>\n",
       "    </tr>\n",
       "    <tr>\n",
       "      <th>2</th>\n",
       "      <td>3</td>\n",
       "      <td>Mario Kart Wii</td>\n",
       "      <td>Wii</td>\n",
       "      <td>2008.0</td>\n",
       "      <td>Racing</td>\n",
       "      <td>Nintendo</td>\n",
       "      <td>15.85</td>\n",
       "      <td>12.88</td>\n",
       "      <td>3.79</td>\n",
       "      <td>3.31</td>\n",
       "      <td>35.82</td>\n",
       "    </tr>\n",
       "    <tr>\n",
       "      <th>3</th>\n",
       "      <td>4</td>\n",
       "      <td>Wii Sports Resort</td>\n",
       "      <td>Wii</td>\n",
       "      <td>2009.0</td>\n",
       "      <td>Sports</td>\n",
       "      <td>Nintendo</td>\n",
       "      <td>15.75</td>\n",
       "      <td>11.01</td>\n",
       "      <td>3.28</td>\n",
       "      <td>2.96</td>\n",
       "      <td>33.00</td>\n",
       "    </tr>\n",
       "    <tr>\n",
       "      <th>4</th>\n",
       "      <td>5</td>\n",
       "      <td>Pokemon Red/Pokemon Blue</td>\n",
       "      <td>GB</td>\n",
       "      <td>1996.0</td>\n",
       "      <td>Role-Playing</td>\n",
       "      <td>Nintendo</td>\n",
       "      <td>11.27</td>\n",
       "      <td>8.89</td>\n",
       "      <td>10.22</td>\n",
       "      <td>1.00</td>\n",
       "      <td>31.37</td>\n",
       "    </tr>\n",
       "  </tbody>\n",
       "</table>\n",
       "</div>"
      ],
      "text/plain": [
       "   Rank                      Name Platform    Year         Genre Publisher  \\\n",
       "0     1                Wii Sports      Wii  2006.0        Sports  Nintendo   \n",
       "1     2         Super Mario Bros.      NES  1985.0      Platform  Nintendo   \n",
       "2     3            Mario Kart Wii      Wii  2008.0        Racing  Nintendo   \n",
       "3     4         Wii Sports Resort      Wii  2009.0        Sports  Nintendo   \n",
       "4     5  Pokemon Red/Pokemon Blue       GB  1996.0  Role-Playing  Nintendo   \n",
       "\n",
       "   NA_Sales  EU_Sales  JP_Sales  Other_Sales  Global_Sales  \n",
       "0     41.49     29.02      3.77         8.46         82.74  \n",
       "1     29.08      3.58      6.81         0.77         40.24  \n",
       "2     15.85     12.88      3.79         3.31         35.82  \n",
       "3     15.75     11.01      3.28         2.96         33.00  \n",
       "4     11.27      8.89     10.22         1.00         31.37  "
      ]
     },
     "execution_count": 110,
     "metadata": {},
     "output_type": "execute_result"
    }
   ],
   "source": [
    "df.head()"
   ]
  },
  {
   "cell_type": "code",
   "execution_count": 111,
   "id": "84244d33",
   "metadata": {},
   "outputs": [
    {
     "name": "stdout",
     "output_type": "stream",
     "text": [
      "<class 'pandas.core.frame.DataFrame'>\n",
      "RangeIndex: 16598 entries, 0 to 16597\n",
      "Data columns (total 11 columns):\n",
      " #   Column        Non-Null Count  Dtype  \n",
      "---  ------        --------------  -----  \n",
      " 0   Rank          16598 non-null  int64  \n",
      " 1   Name          16598 non-null  object \n",
      " 2   Platform      16598 non-null  object \n",
      " 3   Year          16327 non-null  float64\n",
      " 4   Genre         16598 non-null  object \n",
      " 5   Publisher     16540 non-null  object \n",
      " 6   NA_Sales      16598 non-null  float64\n",
      " 7   EU_Sales      16598 non-null  float64\n",
      " 8   JP_Sales      16598 non-null  float64\n",
      " 9   Other_Sales   16598 non-null  float64\n",
      " 10  Global_Sales  16598 non-null  float64\n",
      "dtypes: float64(6), int64(1), object(4)\n",
      "memory usage: 1.4+ MB\n"
     ]
    }
   ],
   "source": [
    "df.info()"
   ]
  },
  {
   "cell_type": "code",
   "execution_count": 112,
   "id": "e1ccda98",
   "metadata": {},
   "outputs": [
    {
     "data": {
      "text/plain": [
       "Rank              0\n",
       "Name              0\n",
       "Platform          0\n",
       "Year            271\n",
       "Genre             0\n",
       "Publisher        58\n",
       "NA_Sales          0\n",
       "EU_Sales          0\n",
       "JP_Sales          0\n",
       "Other_Sales       0\n",
       "Global_Sales      0\n",
       "dtype: int64"
      ]
     },
     "execution_count": 112,
     "metadata": {},
     "output_type": "execute_result"
    }
   ],
   "source": [
    "df.isnull().sum()"
   ]
  },
  {
   "cell_type": "code",
   "execution_count": 113,
   "id": "084caaa3",
   "metadata": {},
   "outputs": [
    {
     "name": "stdout",
     "output_type": "stream",
     "text": [
      "<class 'pandas.core.frame.DataFrame'>\n",
      "Index: 16291 entries, 0 to 16597\n",
      "Data columns (total 11 columns):\n",
      " #   Column        Non-Null Count  Dtype  \n",
      "---  ------        --------------  -----  \n",
      " 0   Rank          16291 non-null  int64  \n",
      " 1   Name          16291 non-null  object \n",
      " 2   Platform      16291 non-null  object \n",
      " 3   Year          16291 non-null  int64  \n",
      " 4   Genre         16291 non-null  object \n",
      " 5   Publisher     16291 non-null  object \n",
      " 6   NA_Sales      16291 non-null  float64\n",
      " 7   EU_Sales      16291 non-null  float64\n",
      " 8   JP_Sales      16291 non-null  float64\n",
      " 9   Other_Sales   16291 non-null  float64\n",
      " 10  Global_Sales  16291 non-null  float64\n",
      "dtypes: float64(5), int64(2), object(4)\n",
      "memory usage: 1.5+ MB\n"
     ]
    }
   ],
   "source": [
    "df[\"Year\"].unique()\n",
    "mask = (df[\"Year\"].isnull())\n",
    "df[mask]\n",
    "df_clean = df\n",
    "df_clean = df_clean[df_clean[\"Year\"].notnull()]\n",
    "df_clean = df_clean[df_clean[\"Publisher\"].notnull()]\n",
    "\n",
    "df_clean[\"Year\"] = df_clean[\"Year\"].astype(int)\n",
    "df_clean.info()"
   ]
  },
  {
   "cell_type": "code",
   "execution_count": 114,
   "id": "92230626",
   "metadata": {},
   "outputs": [
    {
     "data": {
      "text/plain": [
       "array(['Wii', 'NES', 'GB', 'DS', 'X360', 'PS3', 'PS2', 'SNES', 'GBA',\n",
       "       '3DS', 'PS4', 'N64', 'PS', 'XB', 'PC', '2600', 'PSP', 'XOne', 'GC',\n",
       "       'WiiU', 'GEN', 'DC', 'PSV', 'SAT', 'SCD', 'WS', 'NG', 'TG16',\n",
       "       '3DO', 'GG', 'PCFX'], dtype=object)"
      ]
     },
     "execution_count": 114,
     "metadata": {},
     "output_type": "execute_result"
    }
   ],
   "source": [
    "df_clean[\"Platform\"].unique()"
   ]
  },
  {
   "cell_type": "code",
   "execution_count": 115,
   "id": "4cbee783",
   "metadata": {},
   "outputs": [],
   "source": [
    "df_clean[\"Platform\"].value_counts() < 12\n",
    "platforms_less_12 = df_clean[\"Platform\"].value_counts()\n",
    "platforms_less_12 = platforms_less_12[platforms_less_12 < 12].index\n",
    "platforms_less_12\n",
    "df_clean = df_clean[~df_clean[\"Platform\"].isin(platforms_less_12)]\n",
    "# df_clean[df_clean[\"Platform\"].value_counts() < 12]"
   ]
  },
  {
   "cell_type": "code",
   "execution_count": 116,
   "id": "879729be",
   "metadata": {},
   "outputs": [],
   "source": [
    "pub_less_12 = df_clean[\"Publisher\"].value_counts()\n",
    "pub_less_12 = pub_less_12[pub_less_12 < 12].index\n",
    "pub_less_12\n",
    "df_clean = df_clean[~df_clean[\"Publisher\"].isin(pub_less_12)]"
   ]
  },
  {
   "cell_type": "code",
   "execution_count": 117,
   "id": "396a831b",
   "metadata": {},
   "outputs": [
    {
     "data": {
      "text/plain": [
       "[1339,\n",
       " 966,\n",
       " 924,\n",
       " 918,\n",
       " 822,\n",
       " 712,\n",
       " 696,\n",
       " 682,\n",
       " 625,\n",
       " 412,\n",
       " 376,\n",
       " 347,\n",
       " 338,\n",
       " 231,\n",
       " 217,\n",
       " 214,\n",
       " 196,\n",
       " 196,\n",
       " 192,\n",
       " 189,\n",
       " 184,\n",
       " 183,\n",
       " 161,\n",
       " 150,\n",
       " 128,\n",
       " 121,\n",
       " 104,\n",
       " 104,\n",
       " 100,\n",
       " 90,\n",
       " 89,\n",
       " 85,\n",
       " 80,\n",
       " 73,\n",
       " 71,\n",
       " 69,\n",
       " 67,\n",
       " 62,\n",
       " 61,\n",
       " 61,\n",
       " 59,\n",
       " 56,\n",
       " 56,\n",
       " 51,\n",
       " 50,\n",
       " 50,\n",
       " 45,\n",
       " 45,\n",
       " 44,\n",
       " 43,\n",
       " 40,\n",
       " 39,\n",
       " 39,\n",
       " 37,\n",
       " 37,\n",
       " 37,\n",
       " 36,\n",
       " 36,\n",
       " 35,\n",
       " 35,\n",
       " 33,\n",
       " 32,\n",
       " 32,\n",
       " 32,\n",
       " 30,\n",
       " 30,\n",
       " 30,\n",
       " 29,\n",
       " 27,\n",
       " 27,\n",
       " 27,\n",
       " 26,\n",
       " 26,\n",
       " 26,\n",
       " 25,\n",
       " 25,\n",
       " 24,\n",
       " 23,\n",
       " 23,\n",
       " 23,\n",
       " 22,\n",
       " 22,\n",
       " 22,\n",
       " 22,\n",
       " 21,\n",
       " 21,\n",
       " 20,\n",
       " 20,\n",
       " 19,\n",
       " 19,\n",
       " 19,\n",
       " 19,\n",
       " 18,\n",
       " 18,\n",
       " 18,\n",
       " 18,\n",
       " 18,\n",
       " 17,\n",
       " 17,\n",
       " 17,\n",
       " 17,\n",
       " 17,\n",
       " 17,\n",
       " 16,\n",
       " 16,\n",
       " 16,\n",
       " 16,\n",
       " 16,\n",
       " 16,\n",
       " 16,\n",
       " 16,\n",
       " 15,\n",
       " 15,\n",
       " 15,\n",
       " 15,\n",
       " 15,\n",
       " 14,\n",
       " 14,\n",
       " 14,\n",
       " 14,\n",
       " 14,\n",
       " 14,\n",
       " 14,\n",
       " 14,\n",
       " 14,\n",
       " 14,\n",
       " 13,\n",
       " 13,\n",
       " 13,\n",
       " 13,\n",
       " 13,\n",
       " 13,\n",
       " 13,\n",
       " 13,\n",
       " 12,\n",
       " 12,\n",
       " 12,\n",
       " 12,\n",
       " 12,\n",
       " 12]"
      ]
     },
     "execution_count": 117,
     "metadata": {},
     "output_type": "execute_result"
    }
   ],
   "source": [
    "list(df_clean[\"Publisher\"].value_counts())"
   ]
  },
  {
   "cell_type": "code",
   "execution_count": 118,
   "id": "0dc9982b",
   "metadata": {},
   "outputs": [
    {
     "data": {
      "text/html": [
       "<div>\n",
       "<style scoped>\n",
       "    .dataframe tbody tr th:only-of-type {\n",
       "        vertical-align: middle;\n",
       "    }\n",
       "\n",
       "    .dataframe tbody tr th {\n",
       "        vertical-align: top;\n",
       "    }\n",
       "\n",
       "    .dataframe thead th {\n",
       "        text-align: right;\n",
       "    }\n",
       "</style>\n",
       "<table border=\"1\" class=\"dataframe\">\n",
       "  <thead>\n",
       "    <tr style=\"text-align: right;\">\n",
       "      <th></th>\n",
       "      <th>Global_Sales</th>\n",
       "    </tr>\n",
       "    <tr>\n",
       "      <th>Name</th>\n",
       "      <th></th>\n",
       "    </tr>\n",
       "  </thead>\n",
       "  <tbody>\n",
       "    <tr>\n",
       "      <th>Wii Sports</th>\n",
       "      <td>82.74</td>\n",
       "    </tr>\n",
       "    <tr>\n",
       "      <th>Grand Theft Auto V</th>\n",
       "      <td>55.92</td>\n",
       "    </tr>\n",
       "    <tr>\n",
       "      <th>Super Mario Bros.</th>\n",
       "      <td>45.31</td>\n",
       "    </tr>\n",
       "    <tr>\n",
       "      <th>Tetris</th>\n",
       "      <td>35.84</td>\n",
       "    </tr>\n",
       "    <tr>\n",
       "      <th>Mario Kart Wii</th>\n",
       "      <td>35.82</td>\n",
       "    </tr>\n",
       "    <tr>\n",
       "      <th>...</th>\n",
       "      <td>...</td>\n",
       "    </tr>\n",
       "    <tr>\n",
       "      <th>Alfa Romeo Racing Italiano</th>\n",
       "      <td>0.01</td>\n",
       "    </tr>\n",
       "    <tr>\n",
       "      <th>Act of Aggression</th>\n",
       "      <td>0.01</td>\n",
       "    </tr>\n",
       "    <tr>\n",
       "      <th>Rengoku II: The Stairway to H.E.A.V.E.N. (jp sales)</th>\n",
       "      <td>0.01</td>\n",
       "    </tr>\n",
       "    <tr>\n",
       "      <th>Rainbow Islands: Revolution</th>\n",
       "      <td>0.01</td>\n",
       "    </tr>\n",
       "    <tr>\n",
       "      <th>Mahjong Taikai IV</th>\n",
       "      <td>0.01</td>\n",
       "    </tr>\n",
       "  </tbody>\n",
       "</table>\n",
       "<p>10248 rows × 1 columns</p>\n",
       "</div>"
      ],
      "text/plain": [
       "                                                    Global_Sales\n",
       "Name                                                            \n",
       "Wii Sports                                                 82.74\n",
       "Grand Theft Auto V                                         55.92\n",
       "Super Mario Bros.                                          45.31\n",
       "Tetris                                                     35.84\n",
       "Mario Kart Wii                                             35.82\n",
       "...                                                          ...\n",
       "Alfa Romeo Racing Italiano                                  0.01\n",
       "Act of Aggression                                           0.01\n",
       "Rengoku II: The Stairway to H.E.A.V.E.N. (jp sa...          0.01\n",
       "Rainbow Islands: Revolution                                 0.01\n",
       "Mahjong Taikai IV                                           0.01\n",
       "\n",
       "[10248 rows x 1 columns]"
      ]
     },
     "execution_count": 118,
     "metadata": {},
     "output_type": "execute_result"
    }
   ],
   "source": [
    "df_clean[\"Genre\"].unique()\n",
    "df_clean.groupby(by=\"Name\").agg({\"Global_Sales\":\"sum\"}).sort_values(by=\"Global_Sales\",ascending=False)\n"
   ]
  },
  {
   "cell_type": "code",
   "execution_count": 119,
   "id": "5c7b2f36",
   "metadata": {},
   "outputs": [],
   "source": [
    "# choose variable\n",
    "# df_clean_grouped = df_clean.groupby(\"\")\n",
    "X1 = df_clean[[\"Year\",\"Genre\",\"Platform\",'Rank']]\n",
    "X1 = pd.get_dummies(data=X1, columns=[\"Genre\",\"Platform\"], drop_first=True)\n",
    "y1 = df_clean[\"Global_Sales\"]\n",
    "X_train1, X_test1, y_train1, y_test1 = train_test_split(X1,y1,test_size=0.25, random_state=22)\n"
   ]
  },
  {
   "cell_type": "code",
   "execution_count": 120,
   "id": "c9bad7da",
   "metadata": {},
   "outputs": [
    {
     "data": {
      "text/plain": [
       "0.14034431439919604"
      ]
     },
     "execution_count": 120,
     "metadata": {},
     "output_type": "execute_result"
    }
   ],
   "source": [
    "lr1 = LinearRegression()\n",
    "lr1.fit(X_train1, y_train1)\n",
    "y_pred1 = lr1.predict(X_test1)\n",
    "\n",
    "metrics.r2_score(y_test1,lr1.predict(X_test1))"
   ]
  },
  {
   "cell_type": "code",
   "execution_count": 121,
   "id": "0902efb8",
   "metadata": {},
   "outputs": [
    {
     "name": "stdout",
     "output_type": "stream",
     "text": [
      "=== liner model 1: train data ===\n",
      "    RMSE = 1.2889026229731129\n",
      "    MSE  = 1.6612699715069703\n",
      "    r2   = 0.22929746916353888\n",
      "    \n",
      "=== liner model 1: test data ===\n",
      "    RMSE = 1.8768349116679248\n",
      "    MSE  = 3.5225092856555476\n",
      "    r2   = 0.14034431439919604\n",
      "    \n"
     ]
    }
   ],
   "source": [
    "\n",
    "def print__metrics(y_test, y_pred, model_name):\n",
    "    print(f\"\"\"=== {model_name} ===\n",
    "    RMSE = {metrics.root_mean_squared_error(y_test,y_pred)}\n",
    "    MSE  = {metrics.mean_squared_error(y_test,y_pred)}\n",
    "    r2   = {metrics.r2_score(y_test,y_pred)}\n",
    "    \"\"\")\n",
    "print__metrics(y_train1, lr1.predict(X_train1),\"liner model 1: train data\")\n",
    "print__metrics(y_test1, lr1.predict(X_test1),\"liner model 1: test data\")"
   ]
  },
  {
   "cell_type": "code",
   "execution_count": null,
   "id": "64df2e8b",
   "metadata": {},
   "outputs": [],
   "source": []
  },
  {
   "cell_type": "code",
   "execution_count": null,
   "id": "f91172ee",
   "metadata": {},
   "outputs": [],
   "source": []
  }
 ],
 "metadata": {
  "kernelspec": {
   "display_name": "Python 3",
   "language": "python",
   "name": "python3"
  },
  "language_info": {
   "codemirror_mode": {
    "name": "ipython",
    "version": 3
   },
   "file_extension": ".py",
   "mimetype": "text/x-python",
   "name": "python",
   "nbconvert_exporter": "python",
   "pygments_lexer": "ipython3",
   "version": "3.11.7"
  }
 },
 "nbformat": 4,
 "nbformat_minor": 5
}
